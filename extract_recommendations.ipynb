{
 "cells": [
  {
   "cell_type": "code",
   "execution_count": 2,
   "metadata": {},
   "outputs": [],
   "source": [
    "#encoding:utf-8\n",
    "import numpy as np\n",
    "import pandas as pd\n",
    "import matplotlib.pyplot as plt\n",
    "import string\n",
    "\n",
    "from string import punctuation\n",
    "from collections import Counter\n",
    "import re\n",
    "df=pd.read_excel(\"SafeCity - Dashboard - Overall - Updated - April 2018_edited.xlsx\")\n"
   ]
  },
  {
   "cell_type": "code",
   "execution_count": 4,
   "metadata": {
    "scrolled": true
   },
   "outputs": [
    {
     "name": "stdout",
     "output_type": "stream",
     "text": [
      "0 INCIDENT ID\n",
      "1 INCIDENT TITLE\n",
      "2 DATE\n",
      "3 YEAR\n",
      "4 MONTH\n",
      "5 WEEK OF THE MONTH\n",
      "6 DAY\n",
      "7 TIME\n",
      "8 QUARTER OF THE DAY\n",
      "9 HOUR OF THE DAY\n",
      "10 MINUTE OF THE HOUR\n",
      "11 DESCRIPTION\n",
      "12 Catcalls/Whistles\n",
      "13 Commenting\n",
      "14 Sexual Invites\n",
      "15 Ogling/Facial Expressions/Staring\n",
      "16 Taking Pictures\n",
      "17 Indecent Exposure\n",
      "18 Touching /Groping\n",
      "19 Stalking\n",
      "20 Rape / Sexual Assault\n",
      "21 Poor / No Street Lighting\n",
      "22 Chain Snatching\n",
      "23 North East India Report\n",
      "24 Others\n",
      "25 VERBAL ABUSE\n",
      "26 NON-VERBAL ABUSE\n",
      "27 PHYSICAL ABUSE\n",
      "28 SERIOUS PHYSICAL ABUSE\n",
      "29 OTHER ABUSE\n",
      "30 Location\n",
      "31 Country Code\n",
      "32 City Code\n",
      "33 Area Code\n",
      "34 Locality Code\n",
      "35 LATITUDE\n",
      "36 LONGITUDE\n",
      "37 Please Check\n",
      "38 More Info\n",
      "39 Flag\n",
      "40 * Car *\n",
      "41 * Train *\n",
      "42 * Bus *\n",
      "43 * Metro *\n",
      "44 * Auto *\n",
      "45 Taxi\n",
      "46 Car\n",
      "47 Train\n",
      "48 Bus\n",
      "49 Metro\n",
      "50 Auto\n",
      "51 * Rail *\n",
      "52 Rail\n",
      "53 Airport\n",
      "54 Road\n",
      "55 Travel\n",
      "56 Passenger\n",
      "57 Rickshaw\n",
      "58 Driver\n",
      "59 Conductor\n",
      "60 Flag Car\n",
      "61 Flag Train\n",
      "62 Flag Bus\n",
      "63 Flag Metro\n",
      "64 Flag Auto\n",
      "65 Flag Rail\n",
      "66 Overall\n"
     ]
    },
    {
     "data": {
      "text/plain": [
       "10356"
      ]
     },
     "execution_count": 4,
     "metadata": {},
     "output_type": "execute_result"
    }
   ],
   "source": [
    "for i,name in enumerate(df.columns):\n",
    "    print i,name\n",
    "print len(df)"
   ]
  },
  {
   "cell_type": "code",
   "execution_count": null,
   "metadata": {},
   "outputs": [],
   "source": [
    "df=df[[\"INCIDENT ID\",\"INCIDENT TITLE\",\"DESCRIPTION\",\"LATITUDE\",\"LONGITUDE\",\"Location\",\"City Code\"]]\n",
    "\n",
    "#only DESCRIPTION column contains NAs hence can omit all rows that contain NAs in the dataframe\n",
    "df=df.dropna(axis=0,how='any') \n",
    "\n",
    "df.DESCRIPTION=map(lambda x: x.lower(),df.DESCRIPTION)\n",
    "\n",
    "for text in df.DESCRIPTION:\n",
    "    text=text.encode('utf-8')\n",
    "    if type(text)=='unicode':\n",
    "        a=a+1\n",
    "        text=text.encode('utf-8')\n",
    "        text=re.sub('[^A-Za-z0-9]+', ' ', text)\n",
    "        \n",
    "    print text\n"
   ]
  },
  {
   "cell_type": "markdown",
   "metadata": {},
   "source": [
    "\n",
    "The reports were studied and keywords were identified to extract these recommendations. \n",
    "#### \"Poorly lit area\" was a very common pointer. \n"
   ]
  },
  {
   "cell_type": "code",
   "execution_count": null,
   "metadata": {},
   "outputs": [],
   "source": [
    "recommendations=[]\n",
    "lat=[]\n",
    "lon=[]\n",
    "\n",
    "keywords=[\"no light\",\"poor light\",\"poorly lit\",\"not safe\",\"take care\",\"not lit\",\"unsafe\",\"dangerous\",\"bad light\",\"patrol\", \n",
    "         \"avoid\",\"whenever\"]\n",
    "\n",
    "for sent in df.DESCRIPTION:\n",
    "    sentences=sent.split('.')\n",
    "    s=\"\"\n",
    "    for sentence in sentences:\n",
    "        \n",
    "        sentence=sentence.strip('\"')\n",
    "        if any(x in sentence for x in keywords):\n",
    "            #print sentence\n",
    "            #print \"###\"\n",
    "            if len(s)>0: s=s+\",\"\n",
    "            s=s+(sentence.encode('utf-8'))\n",
    "            #removing \\n etc\n",
    "            s=s.replace('\\n','')\n",
    "\n",
    "    if len(s)>0:\n",
    "        recommendations.append(s) \n",
    "        lat.append(df.iloc[row,2])\n",
    "        lon.append(df.iloc[row,3])\n",
    "    \n",
    "#print (recommendations)\n",
    "print len(recommendations),len(lat),len(lon)\n",
    "recom=pd.DataFrame()\n",
    "\n",
    "recom[\"RECOMMENDATION\"]=recommendations\n",
    "recom[\"LATITUDE\"]=lat\n",
    "recom[\"LONGITUDE\"]=lon\n",
    "\n",
    "#recom.to_csv(\"Recommendations_SafecityApril2018.csv\",index=None)\n",
    "\n"
   ]
  },
  {
   "cell_type": "markdown",
   "metadata": {},
   "source": [
    "It was found that some extracted data were not recommendations but incident reports, especially those associated with keyword \"whenever\". These were retained in the csv and weeded out later.\n",
    "\n",
    "\n",
    "The<b> Address, City Code and Incident Title </b> were required as additional fields and hence had to be later appended to the recommendations sheet."
   ]
  },
  {
   "cell_type": "code",
   "execution_count": null,
   "metadata": {},
   "outputs": [],
   "source": [
    "# EXTRACTION OF ADDRESS, CITY CODE, INCIDENT TITLE\n",
    "\n",
    "recom = pd.read_csv(\"Recommendations_SafecityApril2018.csv\")\n",
    "\n",
    "\n",
    "typeof=[]\n",
    "address=[]\n",
    "code_city=[]\n",
    "print len(df_edited)\n",
    "#print data[\"INCIDENT TITLE\"]\n",
    "for rec in df.RECOMMENDATION:\n",
    "    \n",
    "    if  len(df[df['DESCRIPTION'].str.contains(rec)])>0:\n",
    "                \n",
    "        x= (df[df['DESCRIPTION'].str.contains(rec)]).index.values[0]\n",
    "        typeof.append(df.iloc[x][\"INCIDENT TITLE\"])\n",
    "        address.append(df.iloc[x][\"Location\"])\n",
    "        code_city.append(df.iloc[x][\"City Code\"])\n",
    "    else:\n",
    "        \n",
    "        typeof.append(\"Not Available\")\n",
    "        address.append(\"Not Available\")\n",
    "        code_city.append(\"Not Available\")\n",
    "\n",
    "        \n",
    "recom[\"INCIDENT TITLE\"]=typeof\n",
    "recom[\"ADDRESS\"]=address\n",
    "recom[\"CITY CODE\"]=code_city\n",
    "\n",
    "\n",
    "## Arranging the recommendations by City Codes (0 - Bangalore; 1 - Delhi; 2 - Mumbai)\n",
    "df_new=pd.DataFrame(columns=list(recom))\n",
    "\n",
    "df_new=(df[df[\"CITY CODE\"]==0])\n",
    "df_new=pd.concat([df_new,df[df[\"CITY CODE\"]==1]],axis=0)\n",
    "df_new=pd.concat([df_new,df[df[\"CITY CODE\"]==2]],axis=0)\n",
    "df_new=df_new.drop_duplicates(subset=['RECOMMENDATION'])\n",
    "\n",
    "df_new.to_csv(\"Recommendations_Safecity2018_byCityCode.csv\",index=None)\n"
   ]
  },
  {
   "cell_type": "code",
   "execution_count": 20,
   "metadata": {},
   "outputs": [
    {
     "name": "stdout",
     "output_type": "stream",
     "text": [
      "['Reports', 'LATITUDE', 'LONGITUDE', 'INCIDENT TITLE', 'ADDRESS', 'CITY CODE'] (112, 6)\n",
      "                                             Reports   LATITUDE  LONGITUDE  \\\n",
      "0  in sarjapura road signal bus stop bangalore th...  12.971599  77.594563   \n",
      "1  unsafe sub way poorly lit light without any se...  13.026604  77.585916   \n",
      "2  it is properly lighted it is extremely busy it...  13.060422  80.249583   \n",
      "3   the area around nageshwara park is also not s...  13.033611  80.268611   \n",
      "4  according to me the most unsafe place in delhi...  20.429047  80.149403   \n",
      "5  at night iwas passing through moti bagh i foun...  20.429047  80.149403   \n",
      "\n",
      "                  INCIDENT TITLE  \\\n",
      "0               Beware of pimps.   \n",
      "1               Touching/Groping   \n",
      "2           Harrowing experience   \n",
      "3               Isolated subways   \n",
      "4  Commenting/ Cat Calls/ Ogling   \n",
      "5                     COMMENTING   \n",
      "\n",
      "                                             ADDRESS  CITY CODE  \n",
      "0  Grant Rd, KG Halli, Shanthala Nagar, Sampangi ...        0.0  \n",
      "1  Central Bureau of Investigation, Vishveshvarai...        0.0  \n",
      "2                         Chennai, Tamil Nadu, India        0.0  \n",
      "3               Mylapore, Chennai, Tamil Nadu, India        0.0  \n",
      "4                                         Sultanpuri        0.0  \n",
      "5                                          Moti bagh        0.0  \n"
     ]
    }
   ],
   "source": [
    "print list(df_new), df_new.shape\n",
    "print df_new.head(6)"
   ]
  },
  {
   "cell_type": "markdown",
   "metadata": {},
   "source": [
    "<b> The extracted recommendations were submitted to Safecity and is to be compiled into a white paper. </b>"
   ]
  }
 ],
 "metadata": {
  "kernelspec": {
   "display_name": "Python 2",
   "language": "python",
   "name": "python2"
  },
  "language_info": {
   "codemirror_mode": {
    "name": "ipython",
    "version": 2
   },
   "file_extension": ".py",
   "mimetype": "text/x-python",
   "name": "python",
   "nbconvert_exporter": "python",
   "pygments_lexer": "ipython2",
   "version": "2.7.14"
  }
 },
 "nbformat": 4,
 "nbformat_minor": 2
}
